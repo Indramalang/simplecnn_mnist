{
 "cells": [
  {
   "cell_type": "code",
   "execution_count": 1,
   "id": "f8137708-57a4-4461-bca9-d6470c86dcd8",
   "metadata": {},
   "outputs": [],
   "source": [
    "#import Modul Python yang akan digunakan\n",
    "\n",
    "import time\n",
    "import torch\n",
    "import torch.nn as nn\n",
    "import torchvision\n",
    "import torchvision.datasets as dset\n",
    "import torchvision.transforms as transforms\n",
    "from torch.autograd import Variable\n",
    "import torch.nn.functional as F\n",
    "import torch.optim as optim\n",
    "import matplotlib.pyplot as plt\n",
    "from sklearn.metrics import classification_report, confusion_matrix"
   ]
  },
  {
   "cell_type": "code",
   "execution_count": 2,
   "id": "d04d7a33-0f30-4f48-952b-92dcfa10ee12",
   "metadata": {},
   "outputs": [],
   "source": [
    "#transformasi data\n",
    "\n",
    "trans_train = transforms.Compose([transforms.Lambda(lambda image: image.convert('RGB')),\n",
    "                                  transforms.Resize((64,64)),\n",
    "                                  transforms.ToTensor(),\n",
    "                                  transforms.Normalize((0.5,), (1.0,))])\n",
    "\n",
    "trans = transforms.Compose([transforms.Lambda(lambda image: image.convert('RGB')),\n",
    "                            transforms.Resize((64,64)),\n",
    "                            transforms.ToTensor(),\n",
    "                            transforms.Normalize((0.5,), (1.0,))])\n",
    "\n",
    "train_set = dset.MNIST(root='./data', train=True, transform=trans_train, download=True)\n",
    "test_set = dset.MNIST(root='./data', train=False, transform=trans)\n",
    "batch_size = 64"
   ]
  },
  {
   "cell_type": "code",
   "execution_count": 3,
   "id": "6a00e96b-a455-428f-bf75-68da39504846",
   "metadata": {},
   "outputs": [
    {
     "name": "stdout",
     "output_type": "stream",
     "text": [
      "Dataset MNIST\n",
      "    Number of datapoints: 60000\n",
      "    Root location: ./data\n",
      "    Split: Train\n",
      "    StandardTransform\n",
      "Transform: Compose(\n",
      "               Lambda()\n",
      "               Resize(size=(64, 64), interpolation=bilinear, max_size=None, antialias=warn)\n",
      "               ToTensor()\n",
      "               Normalize(mean=(0.5,), std=(1.0,))\n",
      "           )\n",
      "torch.Size([3, 64, 64])\n",
      "3\n"
     ]
    }
   ],
   "source": [
    "#cek data\n",
    "\n",
    "print(train_set)\n",
    "image,label=train_set[10]\n",
    "print(image.shape)\n",
    "print(label)"
   ]
  },
  {
   "cell_type": "code",
   "execution_count": 4,
   "id": "15ffc5fa-41a0-4691-aad0-e55070affeea",
   "metadata": {},
   "outputs": [],
   "source": [
    "#loader data untuk training dan testing\n",
    "\n",
    "train_loader = torch.utils.data.DataLoader(dataset=train_set,batch_size=batch_size,shuffle=True)\n",
    "test_loader = torch.utils.data.DataLoader(dataset=test_set,batch_size=batch_size,shuffle=False)"
   ]
  },
  {
   "cell_type": "code",
   "execution_count": 5,
   "id": "f5abaafc-1ac6-46fe-b7d8-e69447a5c348",
   "metadata": {},
   "outputs": [
    {
     "data": {
      "text/plain": [
       "AlexNet(\n",
       "  (features): Sequential(\n",
       "    (0): Conv2d(3, 64, kernel_size=(11, 11), stride=(4, 4), padding=(2, 2))\n",
       "    (1): ReLU(inplace=True)\n",
       "    (2): MaxPool2d(kernel_size=3, stride=2, padding=0, dilation=1, ceil_mode=False)\n",
       "    (3): Conv2d(64, 192, kernel_size=(5, 5), stride=(1, 1), padding=(2, 2))\n",
       "    (4): ReLU(inplace=True)\n",
       "    (5): MaxPool2d(kernel_size=3, stride=2, padding=0, dilation=1, ceil_mode=False)\n",
       "    (6): Conv2d(192, 384, kernel_size=(3, 3), stride=(1, 1), padding=(1, 1))\n",
       "    (7): ReLU(inplace=True)\n",
       "    (8): Conv2d(384, 256, kernel_size=(3, 3), stride=(1, 1), padding=(1, 1))\n",
       "    (9): ReLU(inplace=True)\n",
       "    (10): Conv2d(256, 256, kernel_size=(3, 3), stride=(1, 1), padding=(1, 1))\n",
       "    (11): ReLU(inplace=True)\n",
       "    (12): MaxPool2d(kernel_size=3, stride=2, padding=0, dilation=1, ceil_mode=False)\n",
       "  )\n",
       "  (avgpool): AdaptiveAvgPool2d(output_size=(6, 6))\n",
       "  (classifier): Sequential(\n",
       "    (0): Dropout(p=0.5, inplace=False)\n",
       "    (1): Linear(in_features=9216, out_features=4096, bias=True)\n",
       "    (2): ReLU(inplace=True)\n",
       "    (3): Dropout(p=0.5, inplace=False)\n",
       "    (4): Linear(in_features=4096, out_features=4096, bias=True)\n",
       "    (5): ReLU(inplace=True)\n",
       "    (6): Dropout(p=0.5, inplace=False)\n",
       "    (7): Linear(in_features=4096, out_features=10, bias=True)\n",
       "    (8): Softmax(dim=1)\n",
       "  )\n",
       ")"
      ]
     },
     "execution_count": 5,
     "metadata": {},
     "output_type": "execute_result"
    }
   ],
   "source": [
    "#inisialisasi Model AlexNet\n",
    "Fitur = 10\n",
    "\n",
    "model1 = torchvision.models.alexnet(weights='AlexNet_Weights.DEFAULT')\n",
    "model1.classifier.add_module('6', nn.Dropout(p=0.5, inplace=False))\n",
    "model1.classifier.add_module('7', nn.Linear(in_features=4096, out_features=Fitur))\n",
    "model1.classifier.add_module('8', nn.Softmax(dim=1))\n",
    "model = model1\n",
    "model"
   ]
  },
  {
   "cell_type": "code",
   "execution_count": 6,
   "id": "dab3dc56-7fcd-4d88-a072-f1459e94f5c3",
   "metadata": {},
   "outputs": [],
   "source": [
    "def train(epoch):\n",
    "    model.train()\n",
    "    start_time = time.time()\n",
    "    correct = 0\n",
    "    for batch_idx, (data, target) in enumerate(train_loader):\n",
    "        # if torch.cpu.is_available():\n",
    "        #     data, target = data.cpu(), target.cpu()\n",
    "        data, target = Variable(data), Variable(target)\n",
    "        optimizer.zero_grad()\n",
    "        output = model(data)\n",
    "        loss = F.cross_entropy(output, target)\n",
    "        train_losses.append(loss.item())\n",
    "        loss.backward()\n",
    "        optimizer.step()\n",
    "        \n",
    "        # Menghitung jumlah prediksi yang benar\n",
    "        pred = output.data.max(1, keepdim=True)[1]\n",
    "        correct += pred.eq(target.data.view_as(pred)).cpu().sum()\n",
    "        \n",
    "        if batch_idx % 100 == 0:\n",
    "            print('\\rEpoch: {} {:.0f}%\\t     Loss: {:.6f}'.format(\n",
    "                epoch,\n",
    "                100. * batch_idx / len(train_loader), loss.item()), end='')\n",
    "    end_time = time.time()\n",
    "    print(\"\\nLama waktu Training pada epoch {}: {} Menit\".format(epoch, ((end_time - start_time)/60)))\n",
    "    \n",
    "    # Menghitung dan mencetak akurasi pelatihan\n",
    "    train_accuracy = 100. * correct / len(train_loader.dataset)\n",
    "    train_akurasi.append(train_accuracy)\n",
    "    print('Akurasi pada Training pada epoch {}: {:.2f}%'.format(epoch, train_accuracy))"
   ]
  },
  {
   "cell_type": "code",
   "execution_count": 7,
   "id": "d7a7f8fa-5cab-4889-8965-d5a58ee753ba",
   "metadata": {},
   "outputs": [],
   "source": [
    "def test():\n",
    "    model.eval()\n",
    "    test_loss = 0\n",
    "    correct = 0\n",
    "    for data, target in test_loader:\n",
    "        # if torch.cpu.is_available():\n",
    "        #     data, target = data.cpu(), target.cpu()\n",
    "        data, target = Variable(data), Variable(target)\n",
    "        output = model(data)\n",
    "        test_loss += F.cross_entropy(output, target, reduction='sum').item()\n",
    "        pred = output.data.max(1, keepdim=True)[1] # get the index of the max log-probability\n",
    "        correct += pred.eq(target.data.view_as(pred)).long().cpu().sum()\n",
    "    \n",
    "    \n",
    "    test_loss /= len(test_loader.dataset)\n",
    "    test_losses.append(test_loss)\n",
    "    acc=100. * float(correct.to(torch.device('cpu')).numpy())\n",
    "    print('\\nHasil Testing: Rata-Rata loss: {:.4f}, Akurasi: {:.4f}%\\n'.format(\n",
    "        test_loss, acc / len(test_loader.dataset)))\n",
    "    \n",
    "    test_accuracy.append(acc / len(test_loader.dataset))"
   ]
  },
  {
   "cell_type": "code",
   "execution_count": 8,
   "id": "5a3702fb-8577-4119-b83f-5d9fa4b470cf",
   "metadata": {},
   "outputs": [
    {
     "name": "stdout",
     "output_type": "stream",
     "text": [
      "Epoch: 1 96%\t     Loss: 1.474141\n",
      "Lama waktu Training pada epoch 1: 7.27546318769455 Menit\n",
      "Akurasi pada Training pada epoch 1: 90.81%\n",
      "\n",
      "Hasil Testing: Rata-Rata loss: 1.4828, Akurasi: 97.9300%\n",
      "\n"
     ]
    }
   ],
   "source": [
    "optimizer = optim.SGD(model.parameters(), lr=0.01)\n",
    "\n",
    "\n",
    "train_losses = []\n",
    "test_losses =[]\n",
    "test_accuracy = []\n",
    "train_akurasi = []\n",
    "\n",
    "for epoch in range(1, 2):\n",
    "    train(epoch)\n",
    "    test()\n",
    "    "
   ]
  },
  {
   "cell_type": "code",
   "execution_count": 9,
   "id": "1ed7eab3-980b-4326-bf84-abc0e2a4aa21",
   "metadata": {},
   "outputs": [
    {
     "name": "stdout",
     "output_type": "stream",
     "text": [
      "Confusion Matrix:\n",
      "[[ 965    0    3    0    0    1   10    1    0    0]\n",
      " [   0 1125    3    2    0    0    2    3    0    0]\n",
      " [   1    2 1022    2    0    0    1    3    1    0]\n",
      " [   0    0    3  996    0    5    0    2    4    0]\n",
      " [   0    2    3    0  933    0    4    6    2   32]\n",
      " [   0    1    1   13    0  867    4    2    4    0]\n",
      " [   1    0    0    1    0    3  952    0    1    0]\n",
      " [   0    1    8    1    0    0    0 1009    2    7]\n",
      " [   2    1    8    5    2    1    3    2  937   13]\n",
      " [   1    1    2    2    2    3    0    4    7  987]]\n"
     ]
    }
   ],
   "source": [
    "# membuat prediksi dan ground truth labels\n",
    "y_pred = []\n",
    "y_true = []\n",
    "for data, target in test_loader:\n",
    "    data, target = Variable(data), Variable(target)\n",
    "    output = model(data)\n",
    "    pred = output.data.max(1, keepdim=True)[1].cpu().numpy().squeeze()\n",
    "    y_pred.extend(pred)\n",
    "    y_true.extend(target.data.cpu().numpy())\n",
    "\n",
    "# membuat confusion matrix dan classification report\n",
    "conf_mat = confusion_matrix(y_true, y_pred)\n",
    "class_report = classification_report(y_true, y_pred)\n",
    "\n",
    "print('Confusion Matrix:')\n",
    "print(conf_mat)"
   ]
  },
  {
   "cell_type": "code",
   "execution_count": 10,
   "id": "a3532d49-583c-49b4-bf0a-135b281831bd",
   "metadata": {},
   "outputs": [
    {
     "name": "stdout",
     "output_type": "stream",
     "text": [
      "Classification Report:\n",
      "              precision    recall  f1-score   support\n",
      "\n",
      "           0       0.99      0.98      0.99       980\n",
      "           1       0.99      0.99      0.99      1135\n",
      "           2       0.97      0.99      0.98      1032\n",
      "           3       0.97      0.99      0.98      1010\n",
      "           4       1.00      0.95      0.97       982\n",
      "           5       0.99      0.97      0.98       892\n",
      "           6       0.98      0.99      0.98       958\n",
      "           7       0.98      0.98      0.98      1028\n",
      "           8       0.98      0.96      0.97       974\n",
      "           9       0.95      0.98      0.96      1009\n",
      "\n",
      "    accuracy                           0.98     10000\n",
      "   macro avg       0.98      0.98      0.98     10000\n",
      "weighted avg       0.98      0.98      0.98     10000\n",
      "\n"
     ]
    }
   ],
   "source": [
    "print('Classification Report:')\n",
    "print(class_report)"
   ]
  },
  {
   "cell_type": "code",
   "execution_count": null,
   "id": "c8157ac7-b606-4ebe-80c6-945da10ee264",
   "metadata": {},
   "outputs": [],
   "source": []
  }
 ],
 "metadata": {
  "kernelspec": {
   "display_name": "Python 3 (ipykernel)",
   "language": "python",
   "name": "python3"
  },
  "language_info": {
   "codemirror_mode": {
    "name": "ipython",
    "version": 3
   },
   "file_extension": ".py",
   "mimetype": "text/x-python",
   "name": "python",
   "nbconvert_exporter": "python",
   "pygments_lexer": "ipython3",
   "version": "3.9.13"
  }
 },
 "nbformat": 4,
 "nbformat_minor": 5
}
